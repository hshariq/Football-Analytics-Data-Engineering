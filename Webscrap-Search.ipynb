{
 "cells": [
  {
   "cell_type": "code",
   "execution_count": 132,
   "metadata": {},
   "outputs": [],
   "source": [
    "import re"
   ]
  },
  {
   "cell_type": "markdown",
   "metadata": {},
   "source": [
    "Search"
   ]
  },
  {
   "cell_type": "code",
   "execution_count": 157,
   "metadata": {},
   "outputs": [
    {
     "name": "stdout",
     "output_type": "stream",
     "text": [
      "<Response [200]>\n",
      "https://www.sofascore.com/girona-fc-real-sociedad/zgbsoKj\n",
      "<Response [200]>\n",
      "11369489\n"
     ]
    }
   ],
   "source": [
    "import requests\n",
    "from bs4 import BeautifulSoup\n",
    "\n",
    "\n",
    "def get_match_id(search_query):\n",
    "    search_results = None\n",
    "    while search_results is None:\n",
    "        # Perform a search on Bing using the search query\n",
    "        search_url = f\"https://www.bing.com/search?q={search_query}\"\n",
    "        response = requests.get(search_url)\n",
    "        print(response)\n",
    "        soup = BeautifulSoup(response.text, 'html.parser')\n",
    "        # print(soup)\n",
    "        # print(response.text) \n",
    "        search_results = soup.find('li', class_='b_algo')\n",
    "        # print('searchresults:')\n",
    "        # print(search_results)\n",
    "    i=0\n",
    "    for search_result in search_results:\n",
    "        if i==0:\n",
    "             match_url= search_result.find('a')['href']\n",
    "            #  print(search_result)\n",
    "             i=i+1  \n",
    "        \n",
    "    print(match_url)\n",
    "    i=0\n",
    "    # match_url = first_result.find('a')['href']\n",
    "\n",
    "    # Open the match URL and extract the match ID\n",
    "    headers = {\n",
    "        'User-Agent': 'Mozilla/5.0 (Windows NT 10.0; Win64; x64) AppleWebKit/537.36 (KHTML, like Gecko) Chrome/58.0.3029.110 Safari/537.3'\n",
    "    }\n",
    "    import datetime\n",
    "    headers['If-Modified-Since']= datetime.datetime.now().isoformat()\n",
    "    match_response = requests.get(match_url, headers=headers)\n",
    "    print(match_response)\n",
    "    match_soup = BeautifulSoup(match_response.text, 'html.parser')\n",
    "    # print(match_soup)\n",
    "    links = match_soup.find_all('link', href=True)\n",
    "    for link in links:\n",
    "        href = link['href']\n",
    "        if 'android-app://com.sofascore.results/https/www.sofascore.com/event/' in href:\n",
    "            last_part = href.split('/')[-1]\n",
    "            print(last_part)\n",
    "    return last_part\n",
    "    # links= match_soup.find_all('a', href=True)\n",
    "    # for link in links:\n",
    "    #     href = link['href']\n",
    "    #     print(href)\n",
    "    #     if 'android-app://com.sofascore.results/https/www.sofascore.com/event/' in href:\n",
    "    #         last_part = href.split('/')[-1]\n",
    "    #         print(last_part)\n",
    "    # Find the specific div element containing the match ID\n",
    "\n",
    "# Example usage:\n",
    "# search_query = \"sofa score manchester city vs brentford 5 february 2024\"\n",
    "search_query = \"sofa score Girona FC vs Real Sociedad 4 february 2024\"\n",
    "\n",
    "# search_query = \"sofa score Sheffield United vs Arsenal 5 March 2024\"\n",
    "# search_query = \"sofa score Manchester city vs man united 3 march 2024\"\n",
    "# search_query = \"sofa score Inter vs Genoa 5 March 2024\"\n",
    "\n",
    "match_id = get_match_id(search_query)\n",
    "# print(\"Match ID:\", match_id)\n"
   ]
  },
  {
   "cell_type": "markdown",
   "metadata": {},
   "source": [
    "Incidents"
   ]
  },
  {
   "cell_type": "code",
   "execution_count": 158,
   "metadata": {},
   "outputs": [],
   "source": [
    "import requests\n",
    "\n",
    "headers = {\n",
    "    'authority': 'api.sofascore.com',\n",
    "    'accept': '*/*',\n",
    "    'accept-language': 'en-US,en;q=0.9',\n",
    "    'if-none-match': 'W/\"ae3bef61a0\"',\n",
    "    'origin': 'https://www.sofascore.com',\n",
    "    'referer': 'https://www.sofascore.com/',\n",
    "    'sec-ch-ua': '\"Not A(Brand\";v=\"99\", \"Google Chrome\";v=\"121\", \"Chromium\";v=\"121\"',\n",
    "    'sec-ch-ua-mobile': '?0',\n",
    "    'sec-ch-ua-platform': '\"Windows\"',\n",
    "    'sec-fetch-dest': 'empty',\n",
    "    'sec-fetch-mode': 'cors',\n",
    "    'sec-fetch-site': 'same-site',\n",
    "    'user-agent': 'Mozilla/5.0 (Windows NT 10.0; Win64; x64) AppleWebKit/537.36 (KHTML, like Gecko) Chrome/121.0.0.0 Safari/537.36',\n",
    "}\n",
    "#get current date\n",
    "import datetime\n",
    "headers['If-Modified-Since']= datetime.datetime.now().isoformat()\n",
    "\n",
    "response = requests.get(f'https://api.sofascore.com/api/v1/event/{match_id}/incidents', headers=headers)\n"
   ]
  },
  {
   "cell_type": "code",
   "execution_count": 159,
   "metadata": {},
   "outputs": [
    {
     "data": {
      "text/plain": [
       "{'incidents': [{'text': 'FT',\n",
       "   'homeScore': 0,\n",
       "   'awayScore': 0,\n",
       "   'isLive': False,\n",
       "   'time': 90,\n",
       "   'addedTime': 999,\n",
       "   'reversedPeriodTime': 1,\n",
       "   'incidentType': 'period'},\n",
       "  {'player': {'name': 'Daley Blind',\n",
       "    'firstName': '',\n",
       "    'lastName': '',\n",
       "    'slug': 'daley-blind',\n",
       "    'shortName': 'D. Blind',\n",
       "    'position': 'D',\n",
       "    'jerseyNumber': '17',\n",
       "    'userCount': 3772,\n",
       "    'id': 44864,\n",
       "    'fieldTranslations': {'nameTranslation': {'ar': 'دالي بلايند'},\n",
       "     'shortNameTranslation': {'ar': 'د. بلايند'}}},\n",
       "   'playerName': 'Daley Blind',\n",
       "   'reason': 'Argument',\n",
       "   'rescinded': False,\n",
       "   'id': 121128904,\n",
       "   'time': 90,\n",
       "   'addedTime': 7,\n",
       "   'isHome': True,\n",
       "   'incidentClass': 'yellow',\n",
       "   'reversedPeriodTime': 1,\n",
       "   'incidentType': 'card'},\n",
       "  {'length': 4,\n",
       "   'time': 90,\n",
       "   'addedTime': 0,\n",
       "   'reversedPeriodTime': 1,\n",
       "   'incidentType': 'injuryTime'},\n",
       "  {'player': {'name': 'Yangel Herrera',\n",
       "    'slug': 'yangel-herrera',\n",
       "    'shortName': 'Y. Herrera',\n",
       "    'position': 'M',\n",
       "    'jerseyNumber': '21',\n",
       "    'userCount': 2510,\n",
       "    'id': 839585,\n",
       "    'fieldTranslations': {'nameTranslation': {'ar': 'يانخيل هيريرا'},\n",
       "     'shortNameTranslation': {'ar': 'ي. هيريرا'}}},\n",
       "   'playerName': 'Yangel Herrera',\n",
       "   'reason': 'Foul',\n",
       "   'rescinded': False,\n",
       "   'id': 121128883,\n",
       "   'time': 88,\n",
       "   'isHome': True,\n",
       "   'incidentClass': 'yellow',\n",
       "   'reversedPeriodTime': 3,\n",
       "   'incidentType': 'card'},\n",
       "  {'playerIn': {'name': 'Umar Sadiq',\n",
       "    'slug': 'umar-sadiq',\n",
       "    'shortName': 'U. Sadiq',\n",
       "    'position': 'F',\n",
       "    'jerseyNumber': '19',\n",
       "    'userCount': 2327,\n",
       "    'id': 754710,\n",
       "    'fieldTranslations': {'nameTranslation': {'ar': 'عمر صادق'},\n",
       "     'shortNameTranslation': {'ar': 'ع. صادق'}}},\n",
       "   'playerOut': {'name': 'André Silva',\n",
       "    'firstName': '',\n",
       "    'lastName': '',\n",
       "    'slug': 'andre-silva',\n",
       "    'shortName': 'A. Silva',\n",
       "    'position': 'F',\n",
       "    'jerseyNumber': '21',\n",
       "    'userCount': 6961,\n",
       "    'id': 190159,\n",
       "    'fieldTranslations': {'nameTranslation': {'ar': 'أندريه سيلفا'},\n",
       "     'shortNameTranslation': {'ar': 'أ. سيلفا'}}},\n",
       "   'id': 122391847,\n",
       "   'time': 87,\n",
       "   'isHome': False,\n",
       "   'incidentClass': 'regular',\n",
       "   'reversedPeriodTime': 4,\n",
       "   'incidentType': 'substitution'},\n",
       "  {'playerIn': {'name': 'Jon Ander Olasagasti',\n",
       "    'firstName': '',\n",
       "    'lastName': '',\n",
       "    'slug': 'jon-ander-olasagasti',\n",
       "    'shortName': 'J. A. Olasagasti',\n",
       "    'position': 'M',\n",
       "    'jerseyNumber': '16',\n",
       "    'userCount': 116,\n",
       "    'id': 1010383,\n",
       "    'fieldTranslations': {'nameTranslation': {'ar': 'جون أندر أولاساغاستي'},\n",
       "     'shortNameTranslation': {'ar': 'ج. أ. أولاساغاستي'}}},\n",
       "   'playerOut': {'name': 'Brais Méndez',\n",
       "    'slug': 'brais-mendez',\n",
       "    'shortName': 'B. Méndez',\n",
       "    'position': 'M',\n",
       "    'jerseyNumber': '23',\n",
       "    'userCount': 2096,\n",
       "    'id': 845385,\n",
       "    'fieldTranslations': {'nameTranslation': {'ar': 'منديز, برايس'},\n",
       "     'shortNameTranslation': {'ar': 'ب. منديز'}}},\n",
       "   'id': 122391846,\n",
       "   'time': 87,\n",
       "   'isHome': False,\n",
       "   'incidentClass': 'regular',\n",
       "   'reversedPeriodTime': 4,\n",
       "   'incidentType': 'substitution'},\n",
       "  {'playerIn': {'name': 'Jhon Solís',\n",
       "    'firstName': 'Jhon Solis',\n",
       "    'slug': 'jhon-solis',\n",
       "    'shortName': 'J. Solís',\n",
       "    'position': 'M',\n",
       "    'jerseyNumber': '22',\n",
       "    'userCount': 854,\n",
       "    'id': 1106573,\n",
       "    'fieldTranslations': {'nameTranslation': {'ar': 'Solis, Jhon Elmer'},\n",
       "     'shortNameTranslation': {'ar': 'J. E. Solis'}}},\n",
       "   'playerOut': {'name': 'Aleix García',\n",
       "    'firstName': '',\n",
       "    'lastName': '',\n",
       "    'slug': 'aleix-garcia',\n",
       "    'shortName': 'A. García',\n",
       "    'position': 'M',\n",
       "    'jerseyNumber': '14',\n",
       "    'userCount': 3028,\n",
       "    'id': 796047,\n",
       "    'fieldTranslations': {'nameTranslation': {'ar': 'جارسيا, أليكس'},\n",
       "     'shortNameTranslation': {'ar': 'أ. جارسيا'}}},\n",
       "   'id': 122391830,\n",
       "   'time': 80,\n",
       "   'isHome': True,\n",
       "   'incidentClass': 'regular',\n",
       "   'reversedPeriodTime': 11,\n",
       "   'incidentType': 'substitution'},\n",
       "  {'playerIn': {'name': 'Valery Fernández',\n",
       "    'slug': 'valery-fernandez',\n",
       "    'shortName': 'V. Fernández',\n",
       "    'position': 'D',\n",
       "    'jerseyNumber': '11',\n",
       "    'userCount': 368,\n",
       "    'id': 962378,\n",
       "    'fieldTranslations': {'nameTranslation': {'ar': 'فرنانديز ، فاليري'},\n",
       "     'shortNameTranslation': {'ar': 'ف. ، فاليري'}}},\n",
       "   'playerOut': {'name': 'Viktor Tsygankov',\n",
       "    'firstName': '',\n",
       "    'lastName': '',\n",
       "    'slug': 'viktor-tsygankov',\n",
       "    'shortName': 'V. Tsygankov',\n",
       "    'position': 'M',\n",
       "    'jerseyNumber': '8',\n",
       "    'userCount': 4632,\n",
       "    'id': 319735,\n",
       "    'fieldTranslations': {'nameTranslation': {'ar': 'فيكتور تسيغانكوف'},\n",
       "     'shortNameTranslation': {'ar': 'ف. تسيغانكوف'}}},\n",
       "   'id': 122391829,\n",
       "   'time': 80,\n",
       "   'isHome': True,\n",
       "   'incidentClass': 'regular',\n",
       "   'reversedPeriodTime': 11,\n",
       "   'incidentType': 'substitution'},\n",
       "  {'playerIn': {'name': 'Pablo Torre',\n",
       "    'firstName': '',\n",
       "    'lastName': '',\n",
       "    'slug': 'pablo-torre',\n",
       "    'shortName': 'P. Torre',\n",
       "    'position': 'M',\n",
       "    'jerseyNumber': '18',\n",
       "    'userCount': 7078,\n",
       "    'id': 1082981,\n",
       "    'fieldTranslations': {'nameTranslation': {'ar': 'توري كارال ، بابلو'},\n",
       "     'shortNameTranslation': {'ar': 'ت. ك. ، بابلو'}}},\n",
       "   'playerOut': {'name': 'Iván Martín',\n",
       "    'slug': 'ivan-martin',\n",
       "    'shortName': 'I. Martín',\n",
       "    'position': 'M',\n",
       "    'jerseyNumber': '23',\n",
       "    'userCount': 799,\n",
       "    'id': 973699,\n",
       "    'fieldTranslations': {'nameTranslation': {'ar': 'مارتن, إيفان'},\n",
       "     'shortNameTranslation': {'ar': 'إ. مارتن'}}},\n",
       "   'id': 122391786,\n",
       "   'time': 70,\n",
       "   'isHome': True,\n",
       "   'incidentClass': 'regular',\n",
       "   'reversedPeriodTime': 21,\n",
       "   'incidentType': 'substitution'},\n",
       "  {'playerIn': {'name': 'Cristhian Stuani',\n",
       "    'slug': 'cristhian-stuani',\n",
       "    'shortName': 'C. Stuani',\n",
       "    'position': 'F',\n",
       "    'jerseyNumber': '7',\n",
       "    'userCount': 1992,\n",
       "    'id': 32048,\n",
       "    'fieldTranslations': {'nameTranslation': {'ar': 'كريستيان ستواني'},\n",
       "     'shortNameTranslation': {'ar': 'ك. ستواني'}}},\n",
       "   'playerOut': {'name': 'Portu',\n",
       "    'firstName': '',\n",
       "    'lastName': '',\n",
       "    'slug': 'portu',\n",
       "    'shortName': 'Portu',\n",
       "    'position': 'F',\n",
       "    'jerseyNumber': '24',\n",
       "    'userCount': 912,\n",
       "    'id': 218616,\n",
       "    'fieldTranslations': {'nameTranslation': {'ar': 'بورتو'},\n",
       "     'shortNameTranslation': {'ar': 'بورتو'}}},\n",
       "   'id': 122391785,\n",
       "   'time': 70,\n",
       "   'isHome': True,\n",
       "   'incidentClass': 'regular',\n",
       "   'reversedPeriodTime': 21,\n",
       "   'incidentType': 'substitution'},\n",
       "  {'player': {'name': 'Igor Zubeldia',\n",
       "    'slug': 'igor-zubeldia',\n",
       "    'shortName': 'I. Zubeldia',\n",
       "    'position': 'D',\n",
       "    'jerseyNumber': '5',\n",
       "    'userCount': 734,\n",
       "    'id': 838159,\n",
       "    'fieldTranslations': {'nameTranslation': {'ar': 'زوبيلديا, إيجور'},\n",
       "     'shortNameTranslation': {'ar': 'إ. زوبيلديا'}}},\n",
       "   'playerName': 'Igor Zubeldia',\n",
       "   'reason': 'Foul',\n",
       "   'rescinded': False,\n",
       "   'id': 121128823,\n",
       "   'time': 64,\n",
       "   'isHome': False,\n",
       "   'incidentClass': 'yellow',\n",
       "   'reversedPeriodTime': 27,\n",
       "   'incidentType': 'card'},\n",
       "  {'playerIn': {'name': 'Ander Barrenetxea',\n",
       "    'firstName': '',\n",
       "    'lastName': '',\n",
       "    'slug': 'ander-barrenetxea',\n",
       "    'shortName': 'A. Barrenetxea',\n",
       "    'position': 'F',\n",
       "    'jerseyNumber': '7',\n",
       "    'userCount': 1312,\n",
       "    'id': 966862,\n",
       "    'fieldTranslations': {'nameTranslation': {'ar': 'بارنيتكسيا, أندر'},\n",
       "     'shortNameTranslation': {'ar': 'أ. بارنيتكسيا'}}},\n",
       "   'playerOut': {'name': 'Sheraldo Becker',\n",
       "    'slug': 'sheraldo-becker',\n",
       "    'shortName': 'S. Becker',\n",
       "    'position': 'F',\n",
       "    'jerseyNumber': '11',\n",
       "    'userCount': 1594,\n",
       "    'id': 352544,\n",
       "    'fieldTranslations': {'nameTranslation': {'ar': 'شيرالدو بيكر'},\n",
       "     'shortNameTranslation': {'ar': 'ش. بيكر'}}},\n",
       "   'injury': True,\n",
       "   'id': 122391675,\n",
       "   'time': 52,\n",
       "   'isHome': False,\n",
       "   'incidentClass': 'injury',\n",
       "   'reversedPeriodTime': 39,\n",
       "   'incidentType': 'substitution'},\n",
       "  {'playerIn': {'name': 'Mikel Merino',\n",
       "    'slug': 'mikel-merino',\n",
       "    'shortName': 'M. Merino',\n",
       "    'position': 'M',\n",
       "    'jerseyNumber': '8',\n",
       "    'userCount': 2162,\n",
       "    'id': 592010,\n",
       "    'fieldTranslations': {'nameTranslation': {'ar': 'ميرينو, ميكيل'},\n",
       "     'shortNameTranslation': {'ar': 'م. ميرينو'}}},\n",
       "   'playerOut': {'name': 'Beñat Turrientes',\n",
       "    'firstName': '',\n",
       "    'lastName': '',\n",
       "    'slug': 'benat-turrientes',\n",
       "    'shortName': 'B. Turrientes',\n",
       "    'position': 'M',\n",
       "    'jerseyNumber': '22',\n",
       "    'userCount': 388,\n",
       "    'id': 980410,\n",
       "    'fieldTranslations': {'nameTranslation': {'ar': 'بينيات تورينتيس'},\n",
       "     'shortNameTranslation': {'ar': 'ب. تورينتيس'}}},\n",
       "   'id': 122391674,\n",
       "   'time': 52,\n",
       "   'isHome': False,\n",
       "   'incidentClass': 'regular',\n",
       "   'reversedPeriodTime': 39,\n",
       "   'incidentType': 'substitution'},\n",
       "  {'text': 'HT',\n",
       "   'homeScore': 0,\n",
       "   'awayScore': 0,\n",
       "   'isLive': False,\n",
       "   'time': 45,\n",
       "   'addedTime': 999,\n",
       "   'reversedPeriodTime': 1,\n",
       "   'incidentType': 'period'},\n",
       "  {'player': {'name': 'Brais Méndez',\n",
       "    'slug': 'brais-mendez',\n",
       "    'shortName': 'B. Méndez',\n",
       "    'position': 'M',\n",
       "    'jerseyNumber': '23',\n",
       "    'userCount': 2096,\n",
       "    'id': 845385,\n",
       "    'fieldTranslations': {'nameTranslation': {'ar': 'منديز, برايس'},\n",
       "     'shortNameTranslation': {'ar': 'ب. منديز'}}},\n",
       "   'playerName': 'Brais Méndez',\n",
       "   'reason': 'Foul',\n",
       "   'rescinded': False,\n",
       "   'id': 121128708,\n",
       "   'time': 45,\n",
       "   'addedTime': 1,\n",
       "   'isHome': False,\n",
       "   'incidentClass': 'yellow',\n",
       "   'reversedPeriodTime': 1,\n",
       "   'incidentType': 'card'},\n",
       "  {'length': 4,\n",
       "   'time': 45,\n",
       "   'addedTime': 0,\n",
       "   'reversedPeriodTime': 1,\n",
       "   'incidentType': 'injuryTime'},\n",
       "  {'confirmed': False,\n",
       "   'player': {'name': 'Yangel Herrera',\n",
       "    'slug': 'yangel-herrera',\n",
       "    'shortName': 'Y. Herrera',\n",
       "    'position': 'M',\n",
       "    'jerseyNumber': '21',\n",
       "    'userCount': 2510,\n",
       "    'id': 839585,\n",
       "    'fieldTranslations': {'nameTranslation': {'ar': 'يانخيل هيريرا'},\n",
       "     'shortNameTranslation': {'ar': 'ي. هيريرا'}}},\n",
       "   'isHome': True,\n",
       "   'id': 23141,\n",
       "   'time': 27,\n",
       "   'incidentClass': 'goalAwarded',\n",
       "   'reversedPeriodTime': 19,\n",
       "   'incidentType': 'varDecision'},\n",
       "  {'player': {'name': 'Beñat Turrientes',\n",
       "    'firstName': '',\n",
       "    'lastName': '',\n",
       "    'slug': 'benat-turrientes',\n",
       "    'shortName': 'B. Turrientes',\n",
       "    'position': 'M',\n",
       "    'jerseyNumber': '22',\n",
       "    'userCount': 388,\n",
       "    'id': 980410,\n",
       "    'fieldTranslations': {'nameTranslation': {'ar': 'بينيات تورينتيس'},\n",
       "     'shortNameTranslation': {'ar': 'ب. تورينتيس'}}},\n",
       "   'playerName': 'Beñat Turrientes',\n",
       "   'reason': 'Foul',\n",
       "   'rescinded': False,\n",
       "   'id': 121128633,\n",
       "   'time': 21,\n",
       "   'isHome': False,\n",
       "   'incidentClass': 'yellow',\n",
       "   'reversedPeriodTime': 25,\n",
       "   'incidentType': 'card'},\n",
       "  {'playerIn': {'name': 'Jon Aramburu',\n",
       "    'firstName': 'Jon Aramburu',\n",
       "    'lastName': '',\n",
       "    'slug': 'jon-aramburu',\n",
       "    'shortName': 'J. Aramburu',\n",
       "    'position': 'M',\n",
       "    'jerseyNumber': '42',\n",
       "    'userCount': 467,\n",
       "    'id': 1116388},\n",
       "   'playerOut': {'name': 'Álvaro Odriozola',\n",
       "    'firstName': '',\n",
       "    'lastName': '',\n",
       "    'slug': 'alvaro-odriozola',\n",
       "    'shortName': 'Á. Odriozola',\n",
       "    'position': 'D',\n",
       "    'jerseyNumber': '2',\n",
       "    'userCount': 3774,\n",
       "    'id': 353250,\n",
       "    'fieldTranslations': {'nameTranslation': {'ar': 'أودريوزولا, ألفارو'},\n",
       "     'shortNameTranslation': {'ar': 'أ. أودريوزولا'}}},\n",
       "   'injury': True,\n",
       "   'id': 122391415,\n",
       "   'time': 3,\n",
       "   'isHome': False,\n",
       "   'incidentClass': 'injury',\n",
       "   'reversedPeriodTime': 43,\n",
       "   'incidentType': 'substitution'},\n",
       "  {'playerName': 'Michel',\n",
       "   'reason': 'Argument',\n",
       "   'manager': {'name': 'Michel',\n",
       "    'slug': 'michel',\n",
       "    'shortName': 'Michel',\n",
       "    'id': 788163,\n",
       "    'fieldTranslations': {'nameTranslation': {'ar': 'ميشيل'},\n",
       "     'shortNameTranslation': {'ar': 'ميشيل'}}},\n",
       "   'rescinded': False,\n",
       "   'id': 121128889,\n",
       "   'time': -5,\n",
       "   'isHome': True,\n",
       "   'incidentClass': 'red',\n",
       "   'reversedPeriodTime': 6,\n",
       "   'incidentType': 'card'},\n",
       "  {'playerName': 'Imanol Alguacil Barrenetxea',\n",
       "   'reason': 'Argument',\n",
       "   'manager': {'name': 'Imanol Alguacil Barrenetxea',\n",
       "    'slug': 'imanol-alguacil-barrenetxea',\n",
       "    'shortName': 'I. A. Barrenetxea',\n",
       "    'id': 789935,\n",
       "    'fieldTranslations': {'nameTranslation': {'ar': 'الجواسيل ، إيمانول'},\n",
       "     'shortNameTranslation': {'ar': 'ا. ، إيمانول'}}},\n",
       "   'rescinded': False,\n",
       "   'id': 121128713,\n",
       "   'time': -5,\n",
       "   'isHome': False,\n",
       "   'incidentClass': 'yellow',\n",
       "   'reversedPeriodTime': 6,\n",
       "   'incidentType': 'card'}]}"
      ]
     },
     "execution_count": 159,
     "metadata": {},
     "output_type": "execute_result"
    }
   ],
   "source": [
    "response.json()"
   ]
  },
  {
   "cell_type": "code",
   "execution_count": 160,
   "metadata": {},
   "outputs": [
    {
     "data": {
      "text/plain": [
       "<Response [200]>"
      ]
     },
     "execution_count": 160,
     "metadata": {},
     "output_type": "execute_result"
    }
   ],
   "source": [
    "response"
   ]
  },
  {
   "cell_type": "code",
   "execution_count": 162,
   "metadata": {},
   "outputs": [],
   "source": [
    "scores=response.json()"
   ]
  },
  {
   "cell_type": "code",
   "execution_count": 163,
   "metadata": {},
   "outputs": [
    {
     "name": "stdout",
     "output_type": "stream",
     "text": [
      "0\n"
     ]
    }
   ],
   "source": [
    "homescore=scores['incidents'][0]['homeScore']\n",
    "print(homescore)"
   ]
  },
  {
   "cell_type": "code",
   "execution_count": 164,
   "metadata": {},
   "outputs": [
    {
     "name": "stdout",
     "output_type": "stream",
     "text": [
      "0\n"
     ]
    }
   ],
   "source": [
    "awayscore=scores['incidents'][0]['awayScore']\n",
    "print(awayscore)"
   ]
  },
  {
   "cell_type": "markdown",
   "metadata": {},
   "source": [
    "Overview"
   ]
  },
  {
   "cell_type": "code",
   "execution_count": 165,
   "metadata": {},
   "outputs": [],
   "source": [
    "import requests\n",
    "\n",
    "headers = {\n",
    "    'authority': 'api.sofascore.com',\n",
    "    'accept': '*/*',\n",
    "    'accept-language': 'en-US,en;q=0.9',\n",
    "    'if-none-match': 'W/\"ae3bef61a0\"',\n",
    "    'origin': 'https://www.sofascore.com',\n",
    "    'referer': 'https://www.sofascore.com/',\n",
    "    'sec-ch-ua': '\"Not A(Brand\";v=\"99\", \"Google Chrome\";v=\"121\", \"Chromium\";v=\"121\"',\n",
    "    'sec-ch-ua-mobile': '?0',\n",
    "    'sec-ch-ua-platform': '\"Windows\"',\n",
    "    'sec-fetch-dest': 'empty',\n",
    "    'sec-fetch-mode': 'cors',\n",
    "    'sec-fetch-site': 'same-site',\n",
    "    'user-agent': 'Mozilla/5.0 (Windows NT 10.0; Win64; x64) AppleWebKit/537.36 (KHTML, like Gecko) Chrome/121.0.0.0 Safari/537.36',\n",
    "}\n",
    "#get current date\n",
    "import datetime\n",
    "headers['If-Modified-Since']= datetime.datetime.now().isoformat()\n",
    "\n",
    "response = requests.get(f'https://api.sofascore.com/api/v1/event/{match_id}', headers=headers)"
   ]
  },
  {
   "cell_type": "code",
   "execution_count": 166,
   "metadata": {},
   "outputs": [],
   "source": [
    "info=response.json()"
   ]
  },
  {
   "cell_type": "code",
   "execution_count": 167,
   "metadata": {},
   "outputs": [
    {
     "data": {
      "text/plain": [
       "'LaLiga'"
      ]
     },
     "execution_count": 167,
     "metadata": {},
     "output_type": "execute_result"
    }
   ],
   "source": [
    "tourniName=info['event']['tournament']['name']\n",
    "tourniName"
   ]
  },
  {
   "cell_type": "code",
   "execution_count": 168,
   "metadata": {},
   "outputs": [
    {
     "data": {
      "text/plain": [
       "'Spain'"
      ]
     },
     "execution_count": 168,
     "metadata": {},
     "output_type": "execute_result"
    }
   ],
   "source": [
    "countryname=info['event']['tournament']['category']['name']\n",
    "countryname"
   ]
  },
  {
   "cell_type": "code",
   "execution_count": 169,
   "metadata": {},
   "outputs": [
    {
     "data": {
      "text/plain": [
       "'23/24'"
      ]
     },
     "execution_count": 169,
     "metadata": {},
     "output_type": "execute_result"
    }
   ],
   "source": [
    "season= info['event']['season']['name']\n",
    "#only keep last word\n",
    "season=season.split()[-1]\n",
    "season \n"
   ]
  },
  {
   "cell_type": "code",
   "execution_count": 170,
   "metadata": {},
   "outputs": [
    {
     "data": {
      "text/plain": [
       "'Girona'"
      ]
     },
     "execution_count": 170,
     "metadata": {},
     "output_type": "execute_result"
    }
   ],
   "source": [
    "venuecity=info['event']['venue']['city']['name']\n",
    "venuecity"
   ]
  },
  {
   "cell_type": "code",
   "execution_count": 171,
   "metadata": {},
   "outputs": [
    {
     "data": {
      "text/plain": [
       "'Estadi Montilivi'"
      ]
     },
     "execution_count": 171,
     "metadata": {},
     "output_type": "execute_result"
    }
   ],
   "source": [
    "stadium=info['event']['venue']['stadium']['name']\n",
    "stadium"
   ]
  },
  {
   "cell_type": "code",
   "execution_count": 172,
   "metadata": {},
   "outputs": [],
   "source": [
    "HomeManger=info['event']['homeTeam']['manager']['name']"
   ]
  },
  {
   "cell_type": "code",
   "execution_count": 173,
   "metadata": {},
   "outputs": [
    {
     "data": {
      "text/plain": [
       "'Girona FC'"
      ]
     },
     "execution_count": 173,
     "metadata": {},
     "output_type": "execute_result"
    }
   ],
   "source": [
    "hometeamName=info['event']['homeTeam']['name']\n",
    "hometeamName"
   ]
  },
  {
   "cell_type": "code",
   "execution_count": 174,
   "metadata": {},
   "outputs": [
    {
     "data": {
      "text/plain": [
       "'Real Sociedad'"
      ]
     },
     "execution_count": 174,
     "metadata": {},
     "output_type": "execute_result"
    }
   ],
   "source": [
    "awayteamName=info['event']['awayTeam']['name']\n",
    "awayteamName"
   ]
  },
  {
   "cell_type": "code",
   "execution_count": 175,
   "metadata": {},
   "outputs": [],
   "source": [
    "AwayManger=info['event']['awayTeam']['manager']['name']"
   ]
  },
  {
   "cell_type": "code",
   "execution_count": 176,
   "metadata": {},
   "outputs": [
    {
     "data": {
      "text/plain": [
       "'Imanol Alguacil Barrenetxea'"
      ]
     },
     "execution_count": 176,
     "metadata": {},
     "output_type": "execute_result"
    }
   ],
   "source": [
    "AwayManger"
   ]
  },
  {
   "cell_type": "code",
   "execution_count": 189,
   "metadata": {},
   "outputs": [
    {
     "data": {
      "text/html": [
       "<div>\n",
       "<style scoped>\n",
       "    .dataframe tbody tr th:only-of-type {\n",
       "        vertical-align: middle;\n",
       "    }\n",
       "\n",
       "    .dataframe tbody tr th {\n",
       "        vertical-align: top;\n",
       "    }\n",
       "\n",
       "    .dataframe thead th {\n",
       "        text-align: right;\n",
       "    }\n",
       "</style>\n",
       "<table border=\"1\" class=\"dataframe\">\n",
       "  <thead>\n",
       "    <tr style=\"text-align: right;\">\n",
       "      <th></th>\n",
       "      <th>homescore</th>\n",
       "      <th>awayscore</th>\n",
       "      <th>tourniName</th>\n",
       "      <th>countryname</th>\n",
       "      <th>season</th>\n",
       "      <th>venuecity</th>\n",
       "      <th>stadium</th>\n",
       "      <th>HomeManger</th>\n",
       "      <th>hometeamName</th>\n",
       "      <th>awayteamName</th>\n",
       "      <th>AwayManger</th>\n",
       "    </tr>\n",
       "  </thead>\n",
       "  <tbody>\n",
       "    <tr>\n",
       "      <th>0</th>\n",
       "      <td>0</td>\n",
       "      <td>0</td>\n",
       "      <td>LaLiga</td>\n",
       "      <td>Spain</td>\n",
       "      <td>23/24</td>\n",
       "      <td>Girona</td>\n",
       "      <td>Estadi Montilivi</td>\n",
       "      <td>Michel</td>\n",
       "      <td>Girona FC</td>\n",
       "      <td>Real Sociedad</td>\n",
       "      <td>Imanol Alguacil Barrenetxea</td>\n",
       "    </tr>\n",
       "  </tbody>\n",
       "</table>\n",
       "</div>"
      ],
      "text/plain": [
       "   homescore  awayscore tourniName countryname season venuecity  \\\n",
       "0          0          0     LaLiga       Spain  23/24    Girona   \n",
       "\n",
       "            stadium HomeManger hometeamName   awayteamName  \\\n",
       "0  Estadi Montilivi     Michel    Girona FC  Real Sociedad   \n",
       "\n",
       "                    AwayManger  \n",
       "0  Imanol Alguacil Barrenetxea  "
      ]
     },
     "execution_count": 189,
     "metadata": {},
     "output_type": "execute_result"
    }
   ],
   "source": [
    "import pandas as pd\n",
    "df = pd.DataFrame()\n",
    "df = pd.concat([df, pd.DataFrame({'homescore': [homescore], 'awayscore': [awayscore], 'tourniName':[tourniName]\n",
    "                                  , 'countryname': [countryname], 'season': [season], 'venuecity': [venuecity], 'stadium': [stadium], 'HomeManger': [HomeManger], 'hometeamName': [hometeamName], 'awayteamName': [awayteamName], 'AwayManger': [AwayManger]\n",
    "                                  })], ignore_index=True)\n",
    "df"
   ]
  },
  {
   "cell_type": "code",
   "execution_count": 190,
   "metadata": {},
   "outputs": [],
   "source": [
    "df.to_csv('overview.csv', index=False)"
   ]
  },
  {
   "cell_type": "code",
   "execution_count": null,
   "metadata": {},
   "outputs": [],
   "source": []
  }
 ],
 "metadata": {
  "kernelspec": {
   "display_name": "Python 3",
   "language": "python",
   "name": "python3"
  },
  "language_info": {
   "codemirror_mode": {
    "name": "ipython",
    "version": 3
   },
   "file_extension": ".py",
   "mimetype": "text/x-python",
   "name": "python",
   "nbconvert_exporter": "python",
   "pygments_lexer": "ipython3",
   "version": "3.10.11"
  }
 },
 "nbformat": 4,
 "nbformat_minor": 2
}

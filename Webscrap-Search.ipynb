{
 "cells": [
  {
   "cell_type": "code",
   "execution_count": 47,
   "metadata": {},
   "outputs": [],
   "source": [
    "import re"
   ]
  },
  {
   "cell_type": "code",
   "execution_count": 56,
   "metadata": {},
   "outputs": [
    {
     "name": "stdout",
     "output_type": "stream",
     "text": [
      "https://www.sofascore.com/liverpool-arsenal/HQfh\n",
      "<Response [200]>\n",
      "11352376\n"
     ]
    }
   ],
   "source": [
    "import requests\n",
    "from bs4 import BeautifulSoup\n",
    "\n",
    "\n",
    "def get_match_id(search_query):\n",
    "    # Perform a search on Bing using the search query\n",
    "    search_url = f\"https://www.bing.com/search?q={search_query}\"\n",
    "    response = requests.get(search_url)\n",
    "    soup = BeautifulSoup(response.text, 'html.parser')\n",
    "    # print(soup) \n",
    "    # Extract the URL of the first search result\n",
    "    # first_result = soup.find('li', class_='b_algo')\n",
    "    # print(first_result)\n",
    "    # Find the link\n",
    "    search_results = soup.find('li', class_='b_algo')\n",
    "    # print(search_results)\n",
    "    i=0\n",
    "    for search_result in search_results:\n",
    "        if i==0:\n",
    "             match_url= search_result.find('a')['href']\n",
    "            #  print(search_result)\n",
    "             i=i+1  \n",
    "        \n",
    "    print(match_url)\n",
    "    i=0\n",
    "    # match_url = first_result.find('a')['href']\n",
    "\n",
    "    # Open the match URL and extract the match ID\n",
    "    headers = {\n",
    "        'User-Agent': 'Mozilla/5.0 (Windows NT 10.0; Win64; x64) AppleWebKit/537.36 (KHTML, like Gecko) Chrome/58.0.3029.110 Safari/537.3'\n",
    "    }\n",
    "    import datetime\n",
    "    headers['If-Modified-Since']= datetime.datetime.now().isoformat()\n",
    "    match_response = requests.get(match_url, headers=headers)\n",
    "    print(match_response)\n",
    "    match_soup = BeautifulSoup(match_response.text, 'html.parser')\n",
    "    # print(match_soup)\n",
    "    links = match_soup.find_all('link', href=True)\n",
    "    for link in links:\n",
    "        href = link['href']\n",
    "        if 'android-app://com.sofascore.results/https/www.sofascore.com/event/' in href:\n",
    "            last_part = href.split('/')[-1]\n",
    "            print(last_part)\n",
    "    # links= match_soup.find_all('a', href=True)\n",
    "    # for link in links:\n",
    "    #     href = link['href']\n",
    "    #     print(href)\n",
    "    #     if 'android-app://com.sofascore.results/https/www.sofascore.com/event/' in href:\n",
    "    #         last_part = href.split('/')[-1]\n",
    "    #         print(last_part)\n",
    "    # Find the specific div element containing the match ID\n",
    "\n",
    "# Example usage:\n",
    "# search_query = \"sofa score manchester city vs brentford 5 february 2024\"\n",
    "search_query = \"sofa score liverpool vs arsenal 4 februrary 2024\"\n",
    "match_id = get_match_id(search_query)\n",
    "# print(\"Match ID:\", match_id)\n"
   ]
  },
  {
   "cell_type": "code",
   "execution_count": null,
   "metadata": {},
   "outputs": [],
   "source": []
  },
  {
   "cell_type": "code",
   "execution_count": 8,
   "metadata": {},
   "outputs": [
    {
     "name": "stdout",
     "output_type": "stream",
     "text": [
      "An error occurred: 'NoneType' object has no attribute 'find'\n"
     ]
    }
   ],
   "source": [
    "import requests\n",
    "from bs4 import BeautifulSoup\n",
    "\n",
    "def get_match_id(search_query):\n",
    "    # Perform a search on Bing using the search query\n",
    "    search_url = f\"https://www.bing.com/search?q={search_query}\"\n",
    "    response = requests.get(search_url)\n",
    "    soup = BeautifulSoup(response.text, 'html.parser')\n",
    "    print(soup)\n",
    "    # Extract the URL of the first search result\n",
    "    first_result = soup.find('li', class_='b_algo')\n",
    "    print(first_result)\n",
    "    match_url = first_result.find('a')['href']\n",
    "\n",
    "    return match_id\n",
    "\n",
    "# Example usage:\n",
    "search_query = \"sofa score manchester city vs brentford 5 february 2024\"\n",
    "match_id = get_match_id(search_query)\n",
    "print(\"Match ID:\", match_id)\n"
   ]
  },
  {
   "cell_type": "code",
   "execution_count": null,
   "metadata": {},
   "outputs": [],
   "source": [
    "    "
   ]
  }
 ],
 "metadata": {
  "kernelspec": {
   "display_name": "Python 3",
   "language": "python",
   "name": "python3"
  },
  "language_info": {
   "codemirror_mode": {
    "name": "ipython",
    "version": 3
   },
   "file_extension": ".py",
   "mimetype": "text/x-python",
   "name": "python",
   "nbconvert_exporter": "python",
   "pygments_lexer": "ipython3",
   "version": "3.10.11"
  }
 },
 "nbformat": 4,
 "nbformat_minor": 2
}
